{
 "cells": [
  {
   "cell_type": "code",
   "execution_count": 16,
   "id": "020b9252",
   "metadata": {},
   "outputs": [],
   "source": [
    "from IPython.display import clear_output\n",
    "def display_board(board):\n",
    "    clear_output()\n",
    "    print(' ' + board[1]+' | '+board[2]+' | '+board[3])\n",
    "    print(\"-----------\")\n",
    "    print(' ' + board[4]+' | '+board[5]+' | '+board[6])\n",
    "    print(\"-----------\")\n",
    "    print(' ' + board[7]+' | '+board[8]+' | '+board[9])\n"
   ]
  },
  {
   "cell_type": "code",
   "execution_count": 20,
   "id": "88bd0295",
   "metadata": {},
   "outputs": [],
   "source": [
    "def place_marker(board, marker, position):\n",
    "    board[position] = marker\n",
    "\n",
    "def win_check(board , mark):\n",
    "    # Win TIC TAC TOE ?\n",
    "    # ALL ROWS, and check to see if they all have same marker\n",
    "    return ((board[1] == board[2] == board[3] == mark) or \n",
    "    (board[4] == board[5] == board[6] == mark) or\n",
    "    (board[7] == board[8] == board[9] == mark) or\n",
    "    (board[1] == board[4] == board[7] == mark) or\n",
    "    (board[2] == board[5] == board[8] == mark) or\n",
    "    (board[3] == board[6] == board[9] == mark) or\n",
    "    (board[1] == board[5] == board[9] == mark) or\n",
    "    (board[3] == board[5] == board[7] == mark))"
   ]
  },
  {
   "cell_type": "code",
   "execution_count": 18,
   "id": "e182dfd2",
   "metadata": {},
   "outputs": [],
   "source": [
    "def player_input():\n",
    "    marker = ''\n",
    "    while marker != 'X' and marker != 'O':\n",
    "        marker = input('Player 1 : Choose X or O: ').upper()\n",
    "    if marker == 'X':\n",
    "        return ('X','O')\n",
    "    elif marker == 'O':\n",
    "        return ('O', 'X')"
   ]
  },
  {
   "cell_type": "code",
   "execution_count": 36,
   "id": "6f99b9ab",
   "metadata": {},
   "outputs": [],
   "source": [
    "def player_choice(board):\n",
    "    position = 0\n",
    "    while position not in [1,2,3,4,5,6,7,8,9] or not space_check(board, position):\n",
    "        position = int(input('Choose a position: (1-9) '))"
   ]
  },
  {
   "cell_type": "code",
   "execution_count": 21,
   "id": "c49dffa8",
   "metadata": {},
   "outputs": [],
   "source": [
    "import random\n",
    "\n",
    "def choose_first():\n",
    "    flip = random.randint(0,1)\n",
    "    if flip == 0 :\n",
    "        return 'Player 1'\n",
    "    else:\n",
    "        'Player 2'"
   ]
  },
  {
   "cell_type": "code",
   "execution_count": 22,
   "id": "33b4ab75",
   "metadata": {},
   "outputs": [],
   "source": [
    "def space_check(board, position):\n",
    "    return board[position] == ' '\n"
   ]
  },
  {
   "cell_type": "code",
   "execution_count": 38,
   "id": "79a24ae8",
   "metadata": {},
   "outputs": [],
   "source": [
    "def place_marker(board,marker,position):\n",
    "    board[position] = marker"
   ]
  },
  {
   "cell_type": "code",
   "execution_count": 26,
   "id": "41d986da",
   "metadata": {},
   "outputs": [],
   "source": [
    "def full_board_check(board):\n",
    "    for i in range(1,10):\n",
    "        if space_check(board, i):\n",
    "            return False\n",
    "        # board is full if return True\n",
    "        return True\n"
   ]
  },
  {
   "cell_type": "code",
   "execution_count": 27,
   "id": "3d08a626",
   "metadata": {},
   "outputs": [],
   "source": [
    "def full_board_check(board):\n",
    "    for i in range(1,10):\n",
    "        if space_check(board, i):\n",
    "            return False\n",
    "        # board is full if return True\n",
    "        return True"
   ]
  },
  {
   "cell_type": "code",
   "execution_count": 28,
   "id": "833f96d6",
   "metadata": {},
   "outputs": [],
   "source": [
    "def replay():\n",
    "    replay_choice = input(\"Play again? Enter Yes or No\").lower\n",
    "    return replay_choice == 'yes'"
   ]
  },
  {
   "cell_type": "code",
   "execution_count": 39,
   "id": "659dd7e7",
   "metadata": {},
   "outputs": [
    {
     "name": "stdout",
     "output_type": "stream",
     "text": [
      "   |   |  \n",
      "-----------\n",
      "   |   |  \n",
      "-----------\n",
      "   |   |  \n",
      "Choose a position: (1-9) 2\n"
     ]
    },
    {
     "ename": "TypeError",
     "evalue": "list indices must be integers or slices, not NoneType",
     "output_type": "error",
     "traceback": [
      "\u001b[1;31m---------------------------------------------------------------------------\u001b[0m",
      "\u001b[1;31mTypeError\u001b[0m                                 Traceback (most recent call last)",
      "Cell \u001b[1;32mIn[39], line 15\u001b[0m\n\u001b[0;32m     13\u001b[0m display_board(the_board)\n\u001b[0;32m     14\u001b[0m position \u001b[38;5;241m=\u001b[39m player_choice(the_board)\n\u001b[1;32m---> 15\u001b[0m place_marker(the_board, player1_marker, position)\n\u001b[0;32m     16\u001b[0m \u001b[38;5;28;01mif\u001b[39;00m win_check(the_board, player1_marker, position):\n\u001b[0;32m     17\u001b[0m     \u001b[38;5;28mprint\u001b[39m(\u001b[38;5;124m'\u001b[39m\u001b[38;5;124mPLAYER 1 HAS WON\u001b[39m\u001b[38;5;124m'\u001b[39m)\n",
      "Cell \u001b[1;32mIn[38], line 2\u001b[0m, in \u001b[0;36mplace_marker\u001b[1;34m(board, marker, position)\u001b[0m\n\u001b[0;32m      1\u001b[0m \u001b[38;5;28;01mdef\u001b[39;00m \u001b[38;5;21mplace_marker\u001b[39m(board,marker,position):\n\u001b[1;32m----> 2\u001b[0m     board[position] \u001b[38;5;241m=\u001b[39m marker\n",
      "\u001b[1;31mTypeError\u001b[0m: list indices must be integers or slices, not NoneType"
     ]
    }
   ],
   "source": [
    "print('Welcome to Tic Tac Toe!')\n",
    "#while True:\n",
    "    # Set the game up here\n",
    "    #pass\n",
    "while True:\n",
    "    the_board = [' ']*10\n",
    "    player1_marker, player2_marker = player_input()\n",
    "    turn = choose_first()\n",
    "    print(turn, \"will go first\")\n",
    "    playgame = game_on()\n",
    "    while playgame:\n",
    "        if turn == 'Player 1':\n",
    "            display_board(the_board)\n",
    "            position = player_choice(the_board)\n",
    "            place_marker(the_board, player1_marker, position)\n",
    "            if win_check(the_board, player1_marker, position):\n",
    "                print('PLAYER 1 HAS WON')\n",
    "                playgame = False\n",
    "            else:\n",
    "                if full_board_check(the_board):\n",
    "                    display_board(the_board)\n",
    "                    print('TIE GAME!')\n",
    "                    playgame = False\n",
    "                else:\n",
    "                    turn = 'Player 2'\n",
    "        else:\n",
    "            display_board(the_board)\n",
    "            position - player_choice(the_board)\n",
    "            place_marker(the_board, player1_marker, position)\n",
    "            if win_check(the_board, player1_marker, position):\n",
    "                print('PLAYER 2 HAS WON')\n",
    "                playgame = False\n",
    "            else:\n",
    "                if full_board_check(the_board):\n",
    "                    display_board(the_board)\n",
    "                    print('TIE GAME!')\n",
    "                    playgame = False\n",
    "                else:\n",
    "                    turn = 'Player 1'\n",
    "        \n",
    "    \n",
    "    if not replay():\n",
    "        break"
   ]
  },
  {
   "cell_type": "code",
   "execution_count": null,
   "id": "5c4bb869",
   "metadata": {},
   "outputs": [],
   "source": []
  },
  {
   "cell_type": "code",
   "execution_count": null,
   "id": "0c436f38",
   "metadata": {},
   "outputs": [],
   "source": []
  },
  {
   "cell_type": "code",
   "execution_count": 3,
   "id": "0ad17cd4",
   "metadata": {},
   "outputs": [],
   "source": []
  },
  {
   "cell_type": "code",
   "execution_count": 4,
   "id": "b240a943",
   "metadata": {},
   "outputs": [
    {
     "name": "stdout",
     "output_type": "stream",
     "text": [
      "Player 1 : Choose X or O: p\n",
      "Player 1 : Choose X or O: o\n"
     ]
    },
    {
     "data": {
      "text/plain": [
       "('O', 'X')"
      ]
     },
     "execution_count": 4,
     "metadata": {},
     "output_type": "execute_result"
    }
   ],
   "source": [
    "player_input()"
   ]
  },
  {
   "cell_type": "code",
   "execution_count": 7,
   "id": "3ccd301f",
   "metadata": {},
   "outputs": [
    {
     "name": "stdout",
     "output_type": "stream",
     "text": [
      "Player 1 : Choose X or O: x\n"
     ]
    }
   ],
   "source": [
    "player1_marker , player2_marker = player_input()"
   ]
  },
  {
   "cell_type": "code",
   "execution_count": 8,
   "id": "41c543d0",
   "metadata": {},
   "outputs": [
    {
     "data": {
      "text/plain": [
       "'O'"
      ]
     },
     "execution_count": 8,
     "metadata": {},
     "output_type": "execute_result"
    }
   ],
   "source": [
    "player2_marker"
   ]
  },
  {
   "cell_type": "code",
   "execution_count": 13,
   "id": "9dedb39f",
   "metadata": {},
   "outputs": [],
   "source": [
    "def place_marker(board,marker,position):\n",
    "    board[position] = marker"
   ]
  },
  {
   "cell_type": "code",
   "execution_count": null,
   "id": "2dd2083c",
   "metadata": {},
   "outputs": [],
   "source": [
    "def win_check(board , mark):\n",
    "    # Win TIC TAC TOE ?\n",
    "    # ALL ROWS, and check to see if they all have same marker\n",
    "    (board[1] == mark and board[2] == mark and board [3] == mark) \n",
    "    # same for column and 2 diagonals"
   ]
  }
 ],
 "metadata": {
  "kernelspec": {
   "display_name": "Python 3 (ipykernel)",
   "language": "python",
   "name": "python3"
  },
  "language_info": {
   "codemirror_mode": {
    "name": "ipython",
    "version": 3
   },
   "file_extension": ".py",
   "mimetype": "text/x-python",
   "name": "python",
   "nbconvert_exporter": "python",
   "pygments_lexer": "ipython3",
   "version": "3.11.5"
  }
 },
 "nbformat": 4,
 "nbformat_minor": 5
}
